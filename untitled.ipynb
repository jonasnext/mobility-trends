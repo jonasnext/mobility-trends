{
  "nbformat": 4,
  "nbformat_minor": 0,
  "metadata": {
    "colab": {
      "name": "untitled",
      "provenance": []
    },
    "kernelspec": {
      "display_name": "Python 3",
      "name": "python3",
      "language": "python"
    }
  },
  "cells": [
    {
      "cell_type": "code",
      "execution_count": null,
      "metadata": {},
      "outputs": [],
      "source": [
        "import functools\n",
        "import json\n",
        "import pandas as pd\n",
        "import numpy as np\n",
        "import sklearn as sk\n",
        "from sklearn.preprocessing import StandardScaler\n",
        "from sklearn.cluster import KMeans\n",
        "from sklearn.decomposition import PCA\n",
        "import tslearn.utils\n",
        "import tslearn.clustering\n",
        "import matplotlib as mpl\n",
        "import matplotlib.pyplot as plt\n",
        "import plotly.express as px\n",
        "import plotly.io as pio"
      ]
    },
    {
      "cell_type": "code",
      "execution_count": null,
      "metadata": {},
      "outputs": [],
      "source": [
        "def flag(code):\n",
        "    assert(len(code) == 2)\n",
        "    return chr(ord(code[0]) + 0x1F1E6 - 0x41) + chr(ord(code[1]) + 0x1F1E6 - 0x41)\n",
        "\n",
        "def getGeo(gj, country):\n",
        "    country = \"United States of America\" if country == \"United States\" else country\n",
        "    a = [idx for idx in range(len(gj[\"features\"])) if gj[\"features\"][idx][\"properties\"][\"ADMIN\"] == country]\n",
        "    if len(a) == 0:\n",
        "        print(f\"error: {country}\")\n",
        "        return country\n",
        "    idx = a[0]\n",
        "    return json.dumps(gj[\"features\"][idx])"
      ]
    },
    {
      "cell_type": "code",
      "execution_count": null,
      "metadata": {},
      "outputs": [],
      "source": [
        "# data, notes\n",
        "\n",
        "# https://covid19.apple.com/mobility\n",
        "# https://www.google.com/covid19/mobility\n",
        "# https://www.google.com/covid19/mobility/data_documentation.html\n",
        "\n",
        "# https://developers.google.com/machine-learning/clustering/interpret\n",
        "\n",
        "# apple baseline value = Jan 13 2020\n",
        "# apple % change is relative to a baseline value (need to normalize day-of-week effects)\n",
        "# google baseline value = median value for the corresponding day of the week, during the 5 week-period Jan 3-Feb 6 2020\n",
        "# google % change is relative to a baseline value for that day of the week\n",
        "\n",
        "apple_data_url = \"https://covid19-static.cdn-apple.com/covid19-mobility-data/2025HotfixDev16/v3/en-us/applemobilitytrends-2021-01-28.csv\"\n",
        "google_data_url = \"https://www.gstatic.com/covid19/mobility/Global_Mobility_Report.csv\""
      ]
    },
    {
      "cell_type": "code",
      "execution_count": null,
      "metadata": {},
      "outputs": [],
      "source": [
        "_apple_df = pd.read_csv(apple_data_url)\n",
        "_google_df = pd.read_csv(google_data_url, parse_dates=[\"date\"])"
      ]
    },
    {
      "cell_type": "code",
      "execution_count": null,
      "metadata": {},
      "outputs": [],
      "source": [
        "apple_df = _apple_df\n",
        "google_df = _google_df"
      ]
    },
    {
      "cell_type": "code",
      "execution_count": null,
      "metadata": {},
      "outputs": [],
      "source": [
        "# dev\n",
        "\n",
        "apple_df = _apple_df.copy()\n",
        "google_df = _google_df.copy()"
      ]
    },
    {
      "cell_type": "code",
      "execution_count": null,
      "metadata": {},
      "outputs": [],
      "source": [
        "# these countries are in google's dataset but not apple's\n",
        "\n",
        "google_df[~google_df.country_region.isin(apple_df.country)].country_region.unique()"
      ]
    },
    {
      "cell_type": "code",
      "execution_count": null,
      "metadata": {},
      "outputs": [],
      "source": [
        "# make (apple) data tidy\n",
        "\n",
        "apple_df = apple_df.melt(\n",
        "    id_vars=[\n",
        "        \"geo_type\",\n",
        "        \"region\",\n",
        "        \"transportation_type\",\n",
        "        \"alternative_name\",\n",
        "        \"sub-region\",\n",
        "        \"country\",\n",
        "    ],\n",
        "    var_name=\"date\",\n",
        "    value_name=\"requests\",\n",
        ")\n",
        "\n",
        "apple_df.date = pd.to_datetime(apple_df.date)"
      ]
    },
    {
      "cell_type": "code",
      "execution_count": null,
      "metadata": {},
      "outputs": [],
      "source": [
        "# filter dates\n",
        "\n",
        "# apple_df = apple_df.loc[apple_df.date.dt.year == 2021]\n",
        "# google_df = google_df.loc[google_df.date.dt.year == 2021]"
      ]
    },
    {
      "cell_type": "code",
      "execution_count": null,
      "metadata": {},
      "outputs": [],
      "source": [
        "# latest date in the datasset\n",
        "\n",
        "(max(apple_df.date), max(google_df.date))"
      ]
    },
    {
      "cell_type": "code",
      "execution_count": null,
      "metadata": {},
      "outputs": [],
      "source": [
        "# apple: missing data for May 11-12\n",
        "# fill in na values, in time series\n",
        "# first sort the values (for every region, dates in ascending order)\n",
        "\n",
        "apple_df.sort_values(by=[\"geo_type\", \"transportation_type\", \"country\", \"region\", \"sub-region\", \"date\"], inplace=True)\n",
        "apple_df.requests.interpolate(method=\"linear\", inplace=True)"
      ]
    },
    {
      "cell_type": "code",
      "execution_count": null,
      "metadata": {},
      "outputs": [],
      "source": [
        "# google: use 100 as baseline instead of 0\n",
        "# (same scale as apple)\n",
        "\n",
        "google_percent_change_df = google_df.filter(like=\"percent_change_from_baseline\") + 100\n",
        "google_percent_change_cols_count = google_percent_change_df.shape[1]\n",
        "google_df[google_percent_change_df.columns] = google_percent_change_df\n",
        "\n",
        "# google: calc avg % change (multiple mobility types)\n",
        "\n",
        "google_df[\"requests\"] = (\n",
        "    google_percent_change_df.sum(axis=1) / google_percent_change_cols_count\n",
        ")"
      ]
    },
    {
      "cell_type": "code",
      "execution_count": null,
      "metadata": {},
      "outputs": [],
      "source": [
        "apple_geo_type = \"country/region\"\n",
        "apple_df = apple_df[apple_df.geo_type == apple_geo_type]\n",
        "apple_df"
      ]
    },
    {
      "cell_type": "code",
      "execution_count": null,
      "metadata": {},
      "outputs": [],
      "source": [
        "# apple: calc avg requests (multiple transportation types)\n",
        "\n",
        "apple_avg_df = apple_df.groupby([\"region\", \"date\"])[\"requests\"].mean().reset_index()\n",
        "apple_avg_df"
      ]
    },
    {
      "cell_type": "code",
      "execution_count": null,
      "metadata": {},
      "outputs": [],
      "source": [
        "country = \"Switzerland\""
      ]
    },
    {
      "cell_type": "code",
      "execution_count": null,
      "metadata": {},
      "outputs": [],
      "source": [
        "apple_country_df = apple_avg_df.loc[apple_avg_df.region == country]\n",
        "apple_country_df"
      ]
    },
    {
      "cell_type": "code",
      "execution_count": null,
      "metadata": {},
      "outputs": [],
      "source": [
        "plt.plot(apple_country_df.date, apple_country_df.requests)"
      ]
    },
    {
      "cell_type": "code",
      "execution_count": null,
      "metadata": {},
      "outputs": [],
      "source": [
        "google_country_df = google_df.loc[\n",
        "    (\n",
        "        google_df.sub_region_1.isnull()\n",
        "        & (google_df.metro_area.isnull())\n",
        "        & (google_df.country_region == country)\n",
        "    )\n",
        "]\n",
        "\n",
        "plt.plot(google_country_df.date, google_country_df.requests)"
      ]
    },
    {
      "cell_type": "code",
      "execution_count": null,
      "metadata": {},
      "outputs": [],
      "source": [
        "# (inner) join apple & google df\n",
        "# l and r are tidy\n",
        "# for each l, r df: #rows <= unique #dates * unique #regions\n",
        "\n",
        "l = apple_avg_df\n",
        "r = google_df[(google_df.sub_region_1.isnull()) & (google_df.metro_area.isnull())]\n",
        "j = l.merge(r, left_on=[\"date\", \"region\"], right_on=[\"date\", \"country_region\"])\n",
        "j"
      ]
    },
    {
      "cell_type": "code",
      "execution_count": null,
      "metadata": {},
      "outputs": [],
      "source": [
        "# test\n",
        "\n",
        "assert l.shape[0] <= len(l.date.unique()) * len(l.region.unique())\n",
        "assert r.shape[0] <= len(r.date.unique()) * len(r.country_region.unique())\n",
        "\n",
        "assert all(l.groupby([\"date\", \"region\"]).size() == 1)\n",
        "assert all(r.groupby([\"date\", \"country_region\"]).size() == 1)"
      ]
    },
    {
      "cell_type": "code",
      "execution_count": null,
      "metadata": {},
      "outputs": [],
      "source": [
        "# visualize data\n",
        "\n",
        "f, a = plt.subplots()\n",
        "df = j[j.region == country]\n",
        "a.plot(df.date, df.requests_x, label=\"apple\")\n",
        "a.plot(df.date, df.requests_y, label=\"google\")\n",
        "a.set_title(country)\n",
        "a.legend()"
      ]
    },
    {
      "cell_type": "code",
      "execution_count": null,
      "metadata": {},
      "outputs": [],
      "source": [
        "df = j.filter(items=[\"date\", \"region\", \"requests_x\", \"requests_y\"])\n",
        "df"
      ]
    },
    {
      "cell_type": "code",
      "execution_count": null,
      "metadata": {},
      "outputs": [],
      "source": [
        "len(df), df.region.nunique()"
      ]
    },
    {
      "cell_type": "code",
      "execution_count": null,
      "metadata": {},
      "outputs": [],
      "source": [
        "df.info()\n",
        "df.describe()"
      ]
    },
    {
      "cell_type": "code",
      "execution_count": null,
      "metadata": {},
      "outputs": [],
      "source": [
        "df.date.value_counts().std(), df.region.value_counts().std()"
      ]
    },
    {
      "cell_type": "code",
      "execution_count": null,
      "metadata": {},
      "outputs": [],
      "source": [
        "df.plot.scatter(x=\"requests_x\", y=\"requests_y\")\n",
        "df.filter(items=[\"requests_x\", \"requests_y\"]).plot.hist(alpha=0.5)"
      ]
    },
    {
      "cell_type": "code",
      "execution_count": null,
      "metadata": {},
      "outputs": [],
      "source": [
        "df = df.dropna()"
      ]
    },
    {
      "cell_type": "code",
      "execution_count": null,
      "metadata": {},
      "outputs": [],
      "source": [
        "m = np.array(df[[\"requests_x\", \"requests_y\"]])\n",
        "# m = m[~np.isnan(m).any(axis=1)]\n",
        "assert not np.isnan(m).any()"
      ]
    },
    {
      "cell_type": "code",
      "execution_count": null,
      "metadata": {},
      "outputs": [],
      "source": [
        "# pivot: 1 country per row, dates are columns\n",
        "\n",
        "apple_google_df = df.copy()\n",
        "\n",
        "df[\"requests\"] = df[[\"requests_x\", \"requests_y\"]].agg(\"mean\", axis=1)\n",
        "pivot = df.pivot_table(index=\"region\", columns=[\"date\"], values=[\"requests\"])\n",
        "pivot.columns = [item[1] for item in np.array(pivot.columns)]"
      ]
    },
    {
      "cell_type": "code",
      "execution_count": null,
      "metadata": {},
      "outputs": [],
      "source": [
        "pivot.min(axis=1).nsmallest(10)"
      ]
    },
    {
      "cell_type": "code",
      "execution_count": null,
      "metadata": {},
      "outputs": [],
      "source": [
        "pivot.max(axis=1).nlargest(10)"
      ]
    },
    {
      "cell_type": "code",
      "execution_count": null,
      "metadata": {},
      "outputs": [],
      "source": [
        "pivot.std(axis=1).rank().sort_values()"
      ]
    },
    {
      "cell_type": "code",
      "execution_count": null,
      "metadata": {},
      "outputs": [],
      "source": [
        "pivot.skew(axis=1).sort_values()"
      ]
    },
    {
      "cell_type": "code",
      "execution_count": null,
      "metadata": {},
      "outputs": [],
      "source": [
        "pivot.kurtosis(axis=1).sort_values()"
      ]
    },
    {
      "cell_type": "code",
      "execution_count": null,
      "metadata": {},
      "outputs": [],
      "source": [
        "# compare time series to baseline\n",
        "\n",
        "baseline_df = pd.DataFrame(np.ones(pivot.shape) * 100)\n",
        "baseline_df.index = pivot.index\n",
        "baseline_df.columns = pivot.columns\n",
        "\n",
        "avg_pc = (pivot - baseline_df).mean(axis=1).sort_values()\n",
        "avg_pc"
      ]
    },
    {
      "cell_type": "code",
      "execution_count": null,
      "metadata": {},
      "outputs": [],
      "source": [
        "# clean na\n",
        "\n",
        "pivot = pivot.dropna(axis=1)"
      ]
    },
    {
      "cell_type": "code",
      "execution_count": null,
      "metadata": {},
      "outputs": [],
      "source": [
        "# reduce dimensions with pca, and\n",
        "# cluster kmeans\n",
        "\n",
        "pca = PCA(n_components=8)\n",
        "kmeans = KMeans(n_clusters=4)\n",
        "reduced_data = pca.fit_transform(pivot.drop(columns=[\"labels\", \"ts_labels\"], errors=\"ignore\"))\n",
        "kmeans.fit(reduced_data)\n",
        "\n",
        "kmeans.score(reduced_data)"
      ]
    },
    {
      "cell_type": "code",
      "execution_count": null,
      "metadata": {},
      "outputs": [],
      "source": [
        "_labels_df = pd.DataFrame(np.zeros(pivot.shape[0]))"
      ]
    },
    {
      "cell_type": "code",
      "execution_count": null,
      "metadata": {},
      "outputs": [],
      "source": [
        "_labels_df = pivot.copy()"
      ]
    },
    {
      "cell_type": "code",
      "execution_count": null,
      "metadata": {},
      "outputs": [],
      "source": [
        "pivot = pivot.drop(columns=[\"labels\", \"ts_labels\"], errors=\"ignore\")"
      ]
    },
    {
      "cell_type": "code",
      "execution_count": null,
      "metadata": {},
      "outputs": [],
      "source": [
        "_labels_df[\"labels\"] = kmeans.labels_"
      ]
    },
    {
      "cell_type": "code",
      "execution_count": null,
      "metadata": {},
      "outputs": [],
      "source": [
        "labels_df = pd.DataFrame()\n",
        "\n",
        "for label in _labels_df.labels.unique():\n",
        "    idx = np.where(_labels_df.labels == label)\n",
        "    labels_df = pd.concat([labels_df, pd.DataFrame({label: list(_labels_df.iloc[idx].index)})], axis=1)\n",
        "\n",
        "labels_df"
      ]
    },
    {
      "cell_type": "code",
      "execution_count": null,
      "metadata": {},
      "outputs": [],
      "source": [
        "# visualize clusters: time series -> 2d\n",
        "# every dot in the plot is a country\n",
        "# color = label\n",
        "\n",
        "tsne = sk.manifold.TSNE()\n",
        "tsne_model = tsne.fit_transform(pivot)\n",
        "tsne_model_df = pd.DataFrame(tsne_model)\n",
        "tsne_model_df.index = pivot.index\n",
        "plt.scatter(tsne_model_df.iloc[:, 0], tsne_model_df.iloc[:, 1], c=kmeans.labels_)"
      ]
    },
    {
      "cell_type": "code",
      "execution_count": null,
      "metadata": {},
      "outputs": [],
      "source": [
        "# cluster time series kmeans\n",
        "\n",
        "ts_data = tslearn.utils.to_time_series_dataset(pivot)\n",
        "ts_kmeans = tslearn.clustering.TimeSeriesKMeans(metric=\"dtw\")\n",
        "ts_kmeans.fit(ts_data)"
      ]
    },
    {
      "cell_type": "code",
      "execution_count": null,
      "metadata": {},
      "outputs": [],
      "source": [
        "_labels_df[\"ts_labels\"] = ts_kmeans.labels_"
      ]
    },
    {
      "cell_type": "code",
      "execution_count": null,
      "metadata": {},
      "outputs": [],
      "source": [
        "ts_labels_df = pd.DataFrame()\n",
        "\n",
        "for label in _labels_df.ts_labels.unique():\n",
        "    idx = np.where(_labels_df.ts_labels == label)\n",
        "    ts_labels_df = pd.concat([ts_labels_df, pd.DataFrame({label: list(_labels_df.iloc[idx].index)})], axis=1)\n",
        "\n",
        "ts_labels_df"
      ]
    },
    {
      "cell_type": "code",
      "execution_count": null,
      "metadata": {},
      "outputs": [],
      "source": [
        "# geo map - choropleth\n",
        "# using data from time series kmeans\n",
        "\n",
        "px.choropleth(pivot, locationmode=\"country names\", locations=pivot.index, color=ts_kmeans.labels_)"
      ]
    },
    {
      "cell_type": "code",
      "execution_count": null,
      "metadata": {},
      "outputs": [],
      "source": [
        "# set index to (country region code . flag)\n",
        "\n",
        "country_region_df = google_df[[\"country_region_code\", \"country_region\"]].set_index(\"country_region\").drop_duplicates()\n",
        "_pivot = pivot.copy()\n",
        "_pivot.index = pivot.index.map(country_region_df.country_region_code)\n",
        "_pivot.index = _pivot.index + \" \" + _pivot.index.map(flag)\n",
        "_pivot"
      ]
    },
    {
      "cell_type": "code",
      "execution_count": null,
      "metadata": {},
      "outputs": [],
      "source": [
        "# average percent change of mobility requests in 2020\n",
        "\n",
        "f = px.choropleth(pivot, locationmode=\"country names\", locations=avg_pc.index, color=avg_pc)\n",
        "f"
      ]
    },
    {
      "cell_type": "code",
      "execution_count": null,
      "metadata": {},
      "outputs": [],
      "source": [
        "# save as pdf/eps/svg\n",
        "\n",
        "# pio.write_image(f, \"img.svg\", width=1000, height=600)"
      ]
    },
    {
      "cell_type": "code",
      "execution_count": null,
      "metadata": {},
      "outputs": [],
      "source": [
        "plt.figure(figsize=(12, 12))\n",
        "pivot.transpose().boxplot(\n",
        "    vert=False,\n",
        "    figsize=(12, 12),\n",
        "    boxprops={\"color\": \"black\"},\n",
        "    flierprops={\"alpha\": 0.2},\n",
        "    showcaps=False\n",
        ")"
      ]
    },
    {
      "cell_type": "code",
      "execution_count": null,
      "metadata": {},
      "outputs": [],
      "source": []
    },
    {
      "cell_type": "code",
      "execution_count": null,
      "metadata": {},
      "outputs": [],
      "source": [
        "# get geojson country polygons data\n",
        "\n",
        "gj = pd.read_json(\"https://datahub.io/core/geo-countries/r/countries.geojson\")"
      ]
    },
    {
      "cell_type": "code",
      "execution_count": null,
      "metadata": {},
      "outputs": [],
      "source": [
        "pivot_df = pivot.T.assign(date=pivot.T.index).melt(\n",
        "    id_vars=[\"date\"],\n",
        "    var_name=\"geo\",\n",
        "    value_name=\"requests\",\n",
        ")\n",
        "\n",
        "# memory+\n",
        "\n",
        "# pivot_df.geo = pivot_df.geo.map(functools.partial(getGeo, gj))"
      ]
    },
    {
      "cell_type": "code",
      "execution_count": null,
      "metadata": {},
      "outputs": [],
      "source": [
        "# pivot_df.to_csv(\"geo_df.csv\")"
      ]
    },
    {
      "cell_type": "code",
      "execution_count": null,
      "metadata": {},
      "outputs": [],
      "source": [
        "# covariance apple & google mobility data\n",
        "\n",
        "scaler = StandardScaler()\n",
        "apple_google_array = apple_google_df[[\"requests_x\", \"requests_y\"]]\n",
        "scaler.fit(apple_google_array)\n",
        "apple_google_array = scaler.transform(apple_google_array)"
      ]
    },
    {
      "cell_type": "code",
      "execution_count": null,
      "metadata": {},
      "outputs": [],
      "source": [
        "covariance_model = sk.covariance.EmpiricalCovariance()\n",
        "covariance_model.fit(apple_google_array)\n",
        "covariance_df = pd.DataFrame(covariance_model.covariance_)\n",
        "covariance_df.index = [\"apple\", \"google\"]\n",
        "covariance_df.columns = [\"apple\", \"google\"]\n",
        "covariance_df"
      ]
    },
    {
      "cell_type": "code",
      "execution_count": null,
      "metadata": {},
      "outputs": [],
      "source": []
    },
    {
      "cell_type": "code",
      "execution_count": null,
      "metadata": {
        "tags": []
      },
      "outputs": [],
      "source": []
    },
    {
      "cell_type": "code",
      "execution_count": null,
      "metadata": {},
      "outputs": [],
      "source": []
    },
    {
      "cell_type": "code",
      "execution_count": null,
      "metadata": {},
      "outputs": [],
      "source": []
    }
  ]
}