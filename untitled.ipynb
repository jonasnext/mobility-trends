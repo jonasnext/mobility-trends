{
  "nbformat": 4,
  "nbformat_minor": 0,
  "metadata": {
    "colab": {
      "name": "untitled",
      "provenance": []
    },
    "kernelspec": {
      "display_name": "Python 3",
      "name": "python3",
      "language": "python"
    }
  },
  "cells": [
    {
      "cell_type": "code",
      "execution_count": null,
      "metadata": {},
      "outputs": [],
      "source": [
        "import pandas as pd\n",
        "import numpy as np\n",
        "import sklearn as sk\n",
        "from sklearn.cluster import KMeans\n",
        "from sklearn.decomposition import PCA\n",
        "import tslearn.utils\n",
        "import tslearn.clustering\n",
        "import matplotlib as mpl\n",
        "import matplotlib.pyplot as plt\n",
        "import plotly.express as px"
      ]
    },
    {
      "cell_type": "code",
      "execution_count": null,
      "metadata": {},
      "outputs": [],
      "source": [
        "# data, notes\n",
        "\n",
        "# https://covid19.apple.com/mobility\n",
        "# https://www.google.com/covid19/mobility\n",
        "# https://www.google.com/covid19/mobility/data_documentation.html\n",
        "\n",
        "# apple baseline value = Jan 13 2020\n",
        "# apple % change is relative to a baseline value (need to normalize day-of-week effects)\n",
        "# google baseline value = median value for the corresponding day of the week, during the 5 week-period Jan 3-Feb 6 2020\n",
        "# google % change is relative to a baseline value for that day of the week\n",
        "\n",
        "apple_data_url = \"https://covid19-static.cdn-apple.com/covid19-mobility-data/2023HotfixDev29/v3/en-us/applemobilitytrends-2021-01-04.csv\"\n",
        "google_data_url = \"https://www.gstatic.com/covid19/mobility/Global_Mobility_Report.csv\""
      ]
    },
    {
      "cell_type": "code",
      "execution_count": null,
      "metadata": {},
      "outputs": [],
      "source": [
        "_apple_df = pd.read_csv(apple_data_url)\n",
        "_google_df = pd.read_csv(google_data_url, parse_dates=[\"date\"])"
      ]
    },
    {
      "cell_type": "code",
      "execution_count": null,
      "metadata": {},
      "outputs": [],
      "source": [
        "apple_df = _apple_df\n",
        "google_df = _google_df"
      ]
    },
    {
      "cell_type": "code",
      "execution_count": null,
      "metadata": {},
      "outputs": [],
      "source": [
        "# dev\n",
        "\n",
        "apple_df = _apple_df.copy()\n",
        "google_df = _google_df.copy()"
      ]
    },
    {
      "cell_type": "code",
      "execution_count": null,
      "metadata": {},
      "outputs": [],
      "source": [
        "# these countries are in google's dataset but not apple's\n",
        "\n",
        "google_df[~google_df.country_region.isin(apple_df.country)].country_region.unique()"
      ]
    },
    {
      "cell_type": "code",
      "execution_count": null,
      "metadata": {},
      "outputs": [],
      "source": [
        "# make (apple) data tidy\n",
        "\n",
        "apple_df = apple_df.melt(\n",
        "    id_vars=[\n",
        "        \"geo_type\",\n",
        "        \"region\",\n",
        "        \"transportation_type\",\n",
        "        \"alternative_name\",\n",
        "        \"sub-region\",\n",
        "        \"country\",\n",
        "    ],\n",
        "    var_name=\"date\",\n",
        "    value_name=\"requests\",\n",
        ")\n",
        "\n",
        "apple_df.date = pd.to_datetime(apple_df.date)"
      ]
    },
    {
      "cell_type": "code",
      "execution_count": null,
      "metadata": {},
      "outputs": [],
      "source": [
        "# filter dates\n",
        "\n",
        "# apple_df.loc[apple_df.date.dt.year == 2021]\n",
        "# google_df.loc[google_df.date.dt.year == 2021]"
      ]
    },
    {
      "cell_type": "code",
      "execution_count": null,
      "metadata": {},
      "outputs": [],
      "source": [
        "# latest date in the datasset\n",
        "\n",
        "(max(apple_df.date), max(google_df.date))"
      ]
    },
    {
      "cell_type": "code",
      "execution_count": null,
      "metadata": {},
      "outputs": [],
      "source": [
        "# apple: missing data for May 11-12\n",
        "# fill in na values, in time series\n",
        "# first sort the values (for every region, dates in ascending order)\n",
        "\n",
        "apple_df.sort_values(by=[\"geo_type\", \"transportation_type\", \"country\", \"region\", \"sub-region\", \"date\"], inplace=True)\n",
        "apple_df.requests.interpolate(method=\"linear\", inplace=True)"
      ]
    },
    {
      "cell_type": "code",
      "execution_count": null,
      "metadata": {},
      "outputs": [],
      "source": [
        "# google: use 100 as baseline instead of 0\n",
        "# (same scale as apple)\n",
        "\n",
        "google_percent_change_df = google_df.filter(like=\"percent_change_from_baseline\") + 100\n",
        "google_percent_change_cols_count = google_percent_change_df.shape[1]\n",
        "google_df[google_percent_change_df.columns] = google_percent_change_df\n",
        "\n",
        "# google: calc avg % change (multiple mobility types)\n",
        "\n",
        "google_df[\"requests\"] = (\n",
        "    google_percent_change_df.sum(axis=1) / google_percent_change_cols_count\n",
        ")"
      ]
    },
    {
      "cell_type": "code",
      "execution_count": null,
      "metadata": {},
      "outputs": [],
      "source": [
        "# apple: calc avg requests (multiple transportation types)\n",
        "\n",
        "apple_avg_df = apple_df.groupby([\"country\", \"date\"])[\"requests\"].mean().reset_index()"
      ]
    },
    {
      "cell_type": "code",
      "execution_count": null,
      "metadata": {},
      "outputs": [],
      "source": [
        "country = \"Switzerland\""
      ]
    },
    {
      "cell_type": "code",
      "execution_count": null,
      "metadata": {},
      "outputs": [],
      "source": [
        "apple_country_df = apple_avg_df.loc[apple_avg_df.country == country]\n",
        "\n",
        "plt.plot(apple_country_df.date, apple_country_df.requests)"
      ]
    },
    {
      "cell_type": "code",
      "execution_count": null,
      "metadata": {},
      "outputs": [],
      "source": [
        "google_country_df = google_df.loc[\n",
        "    (\n",
        "        google_df.sub_region_1.isnull()\n",
        "        & (google_df.metro_area.isnull())\n",
        "        & (google_df.country_region == country)\n",
        "    )\n",
        "]\n",
        "\n",
        "plt.plot(google_country_df.date, google_country_df.requests)"
      ]
    },
    {
      "cell_type": "code",
      "execution_count": null,
      "metadata": {},
      "outputs": [],
      "source": [
        "# (inner) join apple & google df\n",
        "# l and r are tidy\n",
        "# for each l, r df: #rows <= unique #dates * unique #countries\n",
        "\n",
        "l = apple_avg_df\n",
        "r = google_df[(google_df.sub_region_1.isnull()) & (google_df.metro_area.isnull())]\n",
        "j = l.merge(r, left_on=[\"date\", \"country\"], right_on=[\"date\", \"country_region\"])"
      ]
    },
    {
      "cell_type": "code",
      "execution_count": null,
      "metadata": {},
      "outputs": [],
      "source": [
        "# test\n",
        "\n",
        "assert l.shape[0] <= len(l.date.unique()) * len(l.country.unique())\n",
        "assert r.shape[0] <= len(r.date.unique()) * len(r.country_region.unique())\n",
        "\n",
        "assert all(l.groupby([\"date\", \"country\"]).size() == 1)\n",
        "assert all(r.groupby([\"date\", \"country_region\"]).size() == 1)"
      ]
    },
    {
      "cell_type": "code",
      "execution_count": null,
      "metadata": {},
      "outputs": [],
      "source": [
        "# visualize data\n",
        "\n",
        "f, a = plt.subplots()\n",
        "df = j[j.country == country]\n",
        "a.plot(df.date, df.requests_x, label=\"apple\")\n",
        "a.plot(df.date, df.requests_y, label=\"google\")\n",
        "a.set_title(country)\n",
        "a.legend()"
      ]
    },
    {
      "cell_type": "code",
      "execution_count": null,
      "metadata": {},
      "outputs": [],
      "source": [
        "df = j.filter(items=[\"date\", \"country\", \"requests_x\", \"requests_y\"])"
      ]
    },
    {
      "cell_type": "code",
      "execution_count": null,
      "metadata": {},
      "outputs": [],
      "source": [
        "len(df), df.country.nunique()"
      ]
    },
    {
      "cell_type": "code",
      "execution_count": null,
      "metadata": {},
      "outputs": [],
      "source": [
        "df.info()\n",
        "df.describe()"
      ]
    },
    {
      "cell_type": "code",
      "execution_count": null,
      "metadata": {},
      "outputs": [],
      "source": [
        "df.date.value_counts().std(), df.country.value_counts().std()"
      ]
    },
    {
      "cell_type": "code",
      "execution_count": null,
      "metadata": {},
      "outputs": [],
      "source": [
        "df.plot.scatter(x=\"requests_x\", y=\"requests_y\")\n",
        "df.filter(items=[\"requests_x\", \"requests_y\"]).plot.hist()"
      ]
    },
    {
      "cell_type": "code",
      "execution_count": null,
      "metadata": {},
      "outputs": [],
      "source": [
        "df = df.dropna()"
      ]
    },
    {
      "cell_type": "code",
      "execution_count": null,
      "metadata": {},
      "outputs": [],
      "source": [
        "m = np.array(df[[\"requests_x\", \"requests_y\"]])\n",
        "# m = m[~np.isnan(m).any(axis=1)]\n",
        "assert not np.isnan(m).any()"
      ]
    },
    {
      "cell_type": "code",
      "execution_count": null,
      "metadata": {},
      "outputs": [],
      "source": [
        "# pivot: 1 country per row, dates are columns\n",
        "\n",
        "df[\"requests\"] = df[[\"requests_x\", \"requests_y\"]].agg(\"mean\", axis=1)\n",
        "pivot = df.pivot_table(index=\"country\", columns=[\"date\"], values=[\"requests\"])\n",
        "pivot.columns = [item[1] for item in np.array(pivot.columns)]"
      ]
    },
    {
      "cell_type": "code",
      "execution_count": null,
      "metadata": {},
      "outputs": [],
      "source": [
        "pivot.min(axis=1).nsmallest(10)"
      ]
    },
    {
      "cell_type": "code",
      "execution_count": null,
      "metadata": {},
      "outputs": [],
      "source": [
        "pivot.max(axis=1).nlargest(10)"
      ]
    },
    {
      "cell_type": "code",
      "execution_count": null,
      "metadata": {},
      "outputs": [],
      "source": [
        "pivot.std(axis=1).rank().sort_values()"
      ]
    },
    {
      "cell_type": "code",
      "execution_count": null,
      "metadata": {},
      "outputs": [],
      "source": [
        "# clean na\n",
        "\n",
        "pivot = pivot.dropna(axis=1)"
      ]
    },
    {
      "cell_type": "code",
      "execution_count": null,
      "metadata": {},
      "outputs": [],
      "source": [
        "# reduce dimensions with pca, and\n",
        "# cluster kmeans\n",
        "\n",
        "pca = PCA(n_components=8)\n",
        "kmeans = KMeans(n_clusters=4)\n",
        "reduced_data = pca.fit_transform(pivot.drop(columns=[\"labels\", \"ts_labels\"]))\n",
        "kmeans.fit(reduced_data)\n",
        "\n",
        "kmeans.score(reduced_data)"
      ]
    },
    {
      "cell_type": "code",
      "execution_count": null,
      "metadata": {},
      "outputs": [],
      "source": [
        "pivot[\"labels\"] = kmeans.labels_\n",
        "\n",
        "labels_df = pd.DataFrame()\n",
        "\n",
        "for label in pivot.labels.unique():\n",
        "    idx = np.where(pivot.labels == label)\n",
        "    labels_df = pd.concat([labels_df, pd.DataFrame({label: list(pivot.iloc[idx].index)})], axis=1)\n",
        "\n",
        "labels_df"
      ]
    },
    {
      "cell_type": "code",
      "execution_count": null,
      "metadata": {},
      "outputs": [],
      "source": [
        "# visualize clusters: time series -> 2d\n",
        "# every dot in the plot is a country\n",
        "# color = label\n",
        "\n",
        "tsne = sk.manifold.TSNE()\n",
        "tsne_model = tsne.fit_transform(pivot.drop(columns=[\"labels\", \"ts_labels\"]))\n",
        "tsne_model_df = pd.DataFrame(tsne_model)\n",
        "tsne_model_df.index = pivot.index\n",
        "plt.scatter(tsne_model_df.iloc[:, 0], tsne_model_df.iloc[:, 1], c=kmeans.labels_)"
      ]
    },
    {
      "cell_type": "code",
      "execution_count": null,
      "metadata": {},
      "outputs": [],
      "source": [
        "# cluster time series kmeans\n",
        "\n",
        "ts_data = tslearn.utils.to_time_series_dataset(pivot.drop(columns=[\"labels\", \"ts_labels\"]))\n",
        "ts_kmeans = tslearn.clustering.TimeSeriesKMeans(metric=\"dtw\")\n",
        "ts_kmeans.fit(ts_data)"
      ]
    },
    {
      "cell_type": "code",
      "execution_count": null,
      "metadata": {},
      "outputs": [],
      "source": [
        "pivot[\"ts_labels\"] = ts_kmeans.labels_\n",
        "\n",
        "ts_labels_df = pd.DataFrame()\n",
        "\n",
        "for label in pivot.ts_labels.unique():\n",
        "    idx = np.where(pivot.ts_labels == label)\n",
        "    ts_labels_df = pd.concat([ts_labels_df, pd.DataFrame({label: list(pivot.iloc[idx].index)})], axis=1)\n",
        "\n",
        "ts_labels_df"
      ]
    },
    {
      "cell_type": "code",
      "execution_count": null,
      "metadata": {},
      "outputs": [],
      "source": [
        "# geo map - choropleth\n",
        "# using data from time series kmeans\n",
        "\n",
        "px.choropleth(pivot, locationmode=\"country names\", locations=pivot.index, color=ts_kmeans.labels_)"
      ]
    },
    {
      "cell_type": "code",
      "execution_count": null,
      "metadata": {},
      "outputs": [],
      "source": []
    }
  ]
}