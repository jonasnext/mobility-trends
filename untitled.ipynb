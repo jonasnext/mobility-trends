{
  "nbformat": 4,
  "nbformat_minor": 0,
  "metadata": {
    "colab": {
      "name": "untitled",
      "provenance": []
    },
    "kernelspec": {
      "display_name": "Python 3",
      "name": "python3",
      "language": "python"
    }
  },
  "cells": [
    {
      "cell_type": "code",
      "execution_count": null,
      "metadata": {},
      "outputs": [],
      "source": [
        "import pandas as pd"
      ]
    },
    {
      "cell_type": "code",
      "execution_count": null,
      "metadata": {},
      "outputs": [],
      "source": [
        "# data\n",
        "\n",
        "# https://covid19.apple.com/mobility\n",
        "# https://www.google.com/covid19/mobility\n",
        "\n",
        "apple_data_url = \"https://covid19-static.cdn-apple.com/covid19-mobility-data/2023HotfixDev17/v3/en-us/applemobilitytrends-2020-12-23.csv\"\n",
        "google_data_url = \"https://www.gstatic.com/covid19/mobility/Global_Mobility_Report.csv\""
      ]
    },
    {
      "cell_type": "code",
      "execution_count": null,
      "metadata": {},
      "outputs": [],
      "source": [
        "_apple_df = pd.read_csv(apple_data_url)\n",
        "_google_df = pd.read_csv(google_data_url)"
      ]
    },
    {
      "cell_type": "code",
      "execution_count": null,
      "metadata": {},
      "outputs": [],
      "source": [
        "apple_df = _apple_df\n",
        "google_df = _google_df"
      ]
    },
    {
      "cell_type": "code",
      "execution_count": null,
      "metadata": {},
      "outputs": [],
      "source": [
        "# dev\n",
        "\n",
        "apple_df = _apple_df[:100].copy()\n",
        "google_df = _google_df[:100].copy()"
      ]
    },
    {
      "cell_type": "code",
      "execution_count": null,
      "metadata": {},
      "outputs": [],
      "source": [
        "# make (apple) data tidy\n",
        "\n",
        "apple_df = apple_df.melt(\n",
        "    id_vars=[\n",
        "        \"geo_type\",\n",
        "        \"region\",\n",
        "        \"transportation_type\",\n",
        "        \"alternative_name\",\n",
        "        \"sub-region\",\n",
        "        \"country\",\n",
        "    ],\n",
        "    var_name=\"date\",\n",
        "    value_name=\"requests\",\n",
        ")"
      ]
    },
    {
      "cell_type": "code",
      "execution_count": null,
      "metadata": {},
      "outputs": [],
      "source": [
        "# google: use 100 as baseline instead of 0\n",
        "google_percent_change_df = google_df.filter(like=\"percent_change_from_baseline\") + 100\n",
        "google_percent_change_cols_count = google_percent_change_df.shape[1]\n",
        "google_df[google_percent_change_df.columns] = google_percent_change_df\n",
        "\n",
        "# google: add avg % change\n",
        "google_df[\"requests\"] = google_percent_change_df.sum(axis=1) / percent_change_cols_count"
      ]
    },
    {
      "cell_type": "code",
      "execution_count": null,
      "metadata": {},
      "outputs": [],
      "source": []
    }
  ]
}