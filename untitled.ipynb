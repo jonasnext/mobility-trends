{
  "nbformat": 4,
  "nbformat_minor": 0,
  "metadata": {
    "colab": {
      "name": "untitled",
      "provenance": []
    },
    "kernelspec": {
      "display_name": "Python 3",
      "name": "python3",
      "language": "python"
    }
  },
  "cells": [
    {
      "cell_type": "code",
      "execution_count": null,
      "metadata": {},
      "outputs": [],
      "source": [
        "import pandas as pd\n",
        "import numpy as np\n",
        "import matplotlib as mpl\n",
        "import matplotlib.pyplot as plt"
      ]
    },
    {
      "cell_type": "code",
      "execution_count": null,
      "metadata": {},
      "outputs": [],
      "source": [
        "# data, notes\n",
        "\n",
        "# https://covid19.apple.com/mobility\n",
        "# https://www.google.com/covid19/mobility\n",
        "# https://www.google.com/covid19/mobility/data_documentation.html\n",
        "\n",
        "# apple baseline value = Jan 13 2020\n",
        "# apple % change is relative to a baseline value (need to normalize day-of-week effects)\n",
        "# google baseline value = median value for the corresponding day of the week, during the 5 week-period Jan 3-Feb 6 2020\n",
        "# google % change is relative to a baseline value for that day of the week\n",
        "\n",
        "apple_data_url = \"https://covid19-static.cdn-apple.com/covid19-mobility-data/2023HotfixDev18/v3/en-us/applemobilitytrends-2020-12-24.csv\"\n",
        "google_data_url = \"https://www.gstatic.com/covid19/mobility/Global_Mobility_Report.csv\""
      ]
    },
    {
      "cell_type": "code",
      "execution_count": null,
      "metadata": {},
      "outputs": [],
      "source": [
        "_apple_df = pd.read_csv(apple_data_url)\n",
        "_google_df = pd.read_csv(google_data_url, parse_dates=[\"date\"])"
      ]
    },
    {
      "cell_type": "code",
      "execution_count": null,
      "metadata": {},
      "outputs": [],
      "source": [
        "apple_df = _apple_df\n",
        "google_df = _google_df"
      ]
    },
    {
      "cell_type": "code",
      "execution_count": null,
      "metadata": {},
      "outputs": [],
      "source": [
        "# dev\n",
        "\n",
        "apple_df = _apple_df.copy()\n",
        "google_df = _google_df.copy()"
      ]
    },
    {
      "cell_type": "code",
      "execution_count": null,
      "metadata": {},
      "outputs": [],
      "source": [
        "# make (apple) data tidy\n",
        "\n",
        "apple_df = apple_df.melt(\n",
        "    id_vars=[\n",
        "        \"geo_type\",\n",
        "        \"region\",\n",
        "        \"transportation_type\",\n",
        "        \"alternative_name\",\n",
        "        \"sub-region\",\n",
        "        \"country\",\n",
        "    ],\n",
        "    var_name=\"date\",\n",
        "    value_name=\"requests\",\n",
        ")\n",
        "\n",
        "apple_df.date = pd.to_datetime(apple_df.date)"
      ]
    },
    {
      "cell_type": "code",
      "execution_count": null,
      "metadata": {},
      "outputs": [],
      "source": [
        "# google: use 100 as baseline instead of 0\n",
        "google_percent_change_df = google_df.filter(like=\"percent_change_from_baseline\") + 100\n",
        "google_percent_change_cols_count = google_percent_change_df.shape[1]\n",
        "google_df[google_percent_change_df.columns] = google_percent_change_df\n",
        "\n",
        "# google: add avg % change\n",
        "google_df[\"requests\"] = (\n",
        "    google_percent_change_df.sum(axis=1) / google_percent_change_cols_count\n",
        ")"
      ]
    },
    {
      "cell_type": "code",
      "execution_count": null,
      "metadata": {},
      "outputs": [],
      "source": [
        "country = \"Switzerland\""
      ]
    },
    {
      "cell_type": "code",
      "execution_count": null,
      "metadata": {},
      "outputs": [],
      "source": [
        "apple_avg_df = apple_df.groupby([\"country\", \"date\"]).mean().reset_index()\n",
        "apple_country_df = apple_avg_df.loc[apple_avg_df.country == country]\n",
        "\n",
        "plt.plot(apple_country_df.date, apple_country_df.requests)"
      ]
    },
    {
      "cell_type": "code",
      "execution_count": null,
      "metadata": {},
      "outputs": [],
      "source": [
        "google_country_df = google_df.loc[\n",
        "    (google_df.country_region == country) & (google_df.sub_region_1.isnull())\n",
        "]\n",
        "\n",
        "plt.plot(google_country_df.date, google_country_df.requests)"
      ]
    }
  ]
}