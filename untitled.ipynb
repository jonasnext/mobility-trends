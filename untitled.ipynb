{
  "nbformat": 4,
  "nbformat_minor": 0,
  "metadata": {
    "colab": {
      "name": "untitled",
      "provenance": []
    },
    "kernelspec": {
      "display_name": "Python 3",
      "name": "python3",
      "language": "python"
    }
  },
  "cells": [
    {
      "cell_type": "code",
      "execution_count": null,
      "metadata": {},
      "outputs": [],
      "source": [
        "import requests\n",
        "import pandas as pd"
      ]
    },
    {
      "cell_type": "code",
      "execution_count": null,
      "metadata": {},
      "outputs": [],
      "source": [
        "# https://covid19.apple.com/mobility\n",
        "# https://www.google.com/covid19/mobility\n",
        "\n",
        "apple_data_url = \"https://covid19-static.cdn-apple.com/covid19-mobility-data/2023HotfixDev16/v3/en-us/applemobilitytrends-2020-12-22.csv\"\n",
        "google_data_url = \"https://www.gstatic.com/covid19/mobility/Global_Mobility_Report.csv\""
      ]
    },
    {
      "cell_type": "code",
      "execution_count": null,
      "metadata": {},
      "outputs": [],
      "source": [
        "apple_data = requests.get(apple_data_url)\n",
        "google_data = requests.get(google_data_url)"
      ]
    },
    {
      "cell_type": "code",
      "execution_count": null,
      "metadata": {},
      "outputs": [],
      "source": [
        "apple_df = pd.read_csv(apple_data_url)\n",
        "google_df = pd.read_csv(google_data_url)"
      ]
    },
    {
      "cell_type": "code",
      "execution_count": null,
      "metadata": {},
      "outputs": [],
      "source": []
    }
  ]
}